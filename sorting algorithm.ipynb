{
 "cells": [
  {
   "cell_type": "code",
   "execution_count": 1,
   "metadata": {},
   "outputs": [],
   "source": [
    "# 稳定性：排序前后两个相等的数的相对位置不变， 如果Ai = Aj, Ai原来在位置前，排序后Ai还是要在Aj位置前\n",
    "# 下面的 冒泡排序，插入排序，归并排序 都是稳定的\n",
    "# 下面的 选择排序，快速排序，堆排序, 希尔排序 都是不稳定的"
   ]
  },
  {
   "cell_type": "code",
   "execution_count": 1,
   "metadata": {},
   "outputs": [],
   "source": [
    "import random\n",
    "import numpy as np"
   ]
  },
  {
   "cell_type": "code",
   "execution_count": 2,
   "metadata": {},
   "outputs": [
    {
     "name": "stdout",
     "output_type": "stream",
     "text": [
      "[0 1 2 3 4 5 6 7 8 9]\n",
      "[9 7 4 5 0 1 6 8 2 3]\n"
     ]
    }
   ],
   "source": [
    "array = np.arange(10)\n",
    "print(array)\n",
    "random.shuffle(array)\n",
    "print(array)"
   ]
  },
  {
   "cell_type": "code",
   "execution_count": 4,
   "metadata": {},
   "outputs": [
    {
     "name": "stdout",
     "output_type": "stream",
     "text": [
      "[0 1 2 3 4 5 6 7 8 9]\n"
     ]
    }
   ],
   "source": [
    "# 冒泡排序\n",
    "# 时间负责度 O(n^2)\n",
    "\n",
    "def BubbleSort():\n",
    "    n = len(array)\n",
    "    # 遍历数组\n",
    "    for i in range(n):\n",
    "        # last i elements are already in place, notice j+1 can not out of bound\n",
    "        for j in range(0, n-i-1):\n",
    "            if array[j] > array[j+1]:\n",
    "                array[j], array[j+1] = array[j+1], array[j]\n",
    "    return array\n",
    "\n",
    "list1 = BubbleSort()\n",
    "print(list1)"
   ]
  },
  {
   "cell_type": "code",
   "execution_count": 12,
   "metadata": {},
   "outputs": [
    {
     "name": "stdout",
     "output_type": "stream",
     "text": [
      "[0 1 2 3 4 5 6 7 8 9]\n"
     ]
    }
   ],
   "source": [
    "# 选择排序\n",
    "# 在未排序的序列中找到最小的元素，存放在起始位置，\n",
    "# 再从剩余的排序序列中继续寻找最小的元素\n",
    "# 放到已排序序列的末尾\n",
    "\n",
    "def SelectSort():\n",
    "    n = len(array)\n",
    "    # 需要n轮比较\n",
    "    for i in range(n):\n",
    "        # min_idx记录最小值的下标\n",
    "        min_idx = i\n",
    "        # 每轮比较n-i个\n",
    "        for j in range(i+1, n):\n",
    "            if array[min_idx] > array[j]:\n",
    "                min_idx = j\n",
    "        if min_idx != i:\n",
    "            array[i], array[min_idx] = array[min_idx], array[i]\n",
    "    return array\n",
    "\n",
    "random.shuffle(array)\n",
    "list2 = SelectSort()\n",
    "print(list2)\n"
   ]
  },
  {
   "cell_type": "code",
   "execution_count": 9,
   "metadata": {},
   "outputs": [
    {
     "data": {
      "text/plain": [
       "[1, 3, 5, 8]"
      ]
     },
     "execution_count": 9,
     "metadata": {},
     "output_type": "execute_result"
    }
   ],
   "source": [
    "# 插入排序\n",
    "# 第一个待排序序列第一个元素看为有序序列，把第二个元素到最后一个元素当初是非排序序列\n",
    "# 从头到尾扫描非排序序列，将扫描到的每个元素插入有序序列的适当位置\n",
    "\n",
    "# 因为插入排序是从后往前遍历已经排序好的序列，相同元素不会改变位置，所以为稳定排序\n",
    "# 空间复杂度：它是在原序列上进行排序，o(1)\n",
    "# 时间复杂度：o(n^2)\n",
    "\n",
    "def insertSort():\n",
    "    n = len(arr)\n",
    "    #  [0]的元素默认为有序\n",
    "    # [1,2...,n-1] 默认为待排序\n",
    "    for i in range(1, n): \n",
    "        # 记录要插入的元素，不然会被覆盖\n",
    "        tmp = arr[i] \n",
    "        # 遍历已经排序好的数组\n",
    "        # 当前元素小于排序好的元素，就移动到下一个位置「即从右向左移动一位」\n",
    "        j = i  \n",
    "        while (j>0 and arr[j-1] > tmp): \n",
    "            arr[j] = arr[j-1] # 相当于往后移一位\n",
    "            j = j-1\n",
    "        if (j!=i):\n",
    "            arr[j]=tmp\n",
    "    return arr\n",
    "  \n",
    "arr = [1, 5, 3, 8]\n",
    "insertSort()"
   ]
  },
  {
   "cell_type": "code",
   "execution_count": 10,
   "metadata": {},
   "outputs": [],
   "source": [
    "# 分析插入排序法\n",
    "# arr = [8, 1, 4]\n",
    "# 已经排好序的arr[:1]=[8], 待排序的arr[1:]=[1, 4]\n",
    "# tmp = arr[i] = 1\n",
    "# j = 1\n",
    "# while (1>0 and arr[0]>tmp): 进入循环\n",
    "#    arr[1] = arr[0] \n",
    "#    j = 0\n",
    "# j=0 退出循环\n",
    "# if 1!=0:\n",
    "#    arr[0]=tmp\n",
    "# arr[:2] = [1, 8], 待排序的arr[2:]=[4]\n",
    "# tmp = arr[2] = 4\n",
    "# j = 2\n",
    "# while (2>0 and arr[1]>tmp): 进入循环\n",
    "#    arr[2] = arr[1]\n",
    "#    j=1\n",
    "# arr[0]<tmp 退出循环\n",
    "# if 2!= 1:\n",
    "#    arr[1]=tmp\n",
    "# 得到排序好的arr=[1, 4, 8]"
   ]
  },
  {
   "cell_type": "code",
   "execution_count": 7,
   "metadata": {},
   "outputs": [
    {
     "name": "stdout",
     "output_type": "stream",
     "text": [
      "[0 1 2 3 4 5 6 7 8 9]\n"
     ]
    }
   ],
   "source": [
    "# 希尔排序\n",
    "# 插入排序的改进版本，是一种非稳定的排序算法\n",
    "# 又称为“缩小增量排序”，增量是相对比较的两个元素之间的距离，当增量减小为1，算法终止。\n",
    "# 将整个序列分组，对分组后的内容进行插入排序，逐步完成排序\n",
    "\n",
    "# 相同元素可能分到不同的组中，因此两个相同的元素就可能调换相对位置，故不稳定\n",
    "# 空间复杂度：整个排序是在原数据上进行操作，为o(1)\n",
    "\n",
    "\n",
    "def shellSort():\n",
    "    n = len(array)\n",
    "    gap = int(n/2)\n",
    "    while (gap > 0):\n",
    "        for cur in range(gap, n):\n",
    "            i = cur\n",
    "            while i >= gap and array[i-gap] > array[i]:\n",
    "                array[i-gap], array[i] = array[i], array[i-gap]\n",
    "                i = i-gap\n",
    "        gap = int(gap/2)\n",
    "    return array\n",
    "\n",
    "list_ = shellSort()\n",
    "print(list_)"
   ]
  },
  {
   "cell_type": "code",
   "execution_count": null,
   "metadata": {},
   "outputs": [],
   "source": [
    "# 归并算法\n",
    "# 1.申请空间\n",
    "# 2.设定两个指针，最初位置在两个已经排序的起始位置\n",
    "# 3.选择相对较小的元素放入合并空间，并移动指针到下一位置，\n",
    "# 重复步骤三，直到某一指针达到序列尾\n",
    "# 另一序列的所有元素直接复制到合并序列的尾部"
   ]
  },
  {
   "cell_type": "code",
   "execution_count": 14,
   "metadata": {},
   "outputs": [
    {
     "name": "stdout",
     "output_type": "stream",
     "text": [
      "[4 0 5 2 3 1]\n",
      "[0, 1, 2, 3, 4, 5]\n"
     ]
    }
   ],
   "source": [
    "# divide and conquer, \n",
    "# 1. 将原问题分解为若干个规模更小但结构与原问题相似的子问题\n",
    "# 2. 递归地解这些子问题，然后将这些子问题的解组合为原问题的解。\n",
    "\n",
    "# 归并排序 \n",
    "\n",
    "# 合并\n",
    "def merge(left, right):\n",
    "    result = []\n",
    "    i = 0 \n",
    "    j = 0\n",
    "    while(i < len(left) and j < len(right)):\n",
    "        if left[i] < right[j]:\n",
    "            result.append(left[i])\n",
    "            i = i+1\n",
    "        else:\n",
    "            result.append(right[j])\n",
    "            j = j+1\n",
    "    if i < len(left):\n",
    "        result.extend(left[i:])\n",
    "    if j < len(right):\n",
    "        result.extend(right[j:])\n",
    "    return result\n",
    "\n",
    "def mergeSort(arr):\n",
    "    if len(arr) < 2:\n",
    "        return arr\n",
    "    \n",
    "    middle = len(arr)//2\n",
    "    # 左半部分拆分\n",
    "    left = mergeSort(arr[:middle])\n",
    "    # 右半部分拆分\n",
    "    right = mergeSort(arr[middle:])\n",
    "    # 合并\n",
    "    result = merge(left, right)\n",
    "    return result\n",
    "\n",
    "array2 = np.arange(6)\n",
    "random.shuffle(array2)\n",
    "print(array2)\n",
    "list5 = mergeSort(array2)\n",
    "print(list5)\n"
   ]
  },
  {
   "cell_type": "code",
   "execution_count": 26,
   "metadata": {},
   "outputs": [
    {
     "data": {
      "text/plain": [
       "[2, 3, 5, 8]"
      ]
     },
     "execution_count": 26,
     "metadata": {},
     "output_type": "execute_result"
    }
   ],
   "source": [
    "# 快速排序\n",
    "# divide and conquer O(n logn)\n",
    "# partition（分区）：比pivot（基准）值小的放在前面，比pivot值大的放在后面\n",
    "# pseudo code\n",
    "def quickSort(arr):\n",
    "    less = []\n",
    "    pivotlist = []\n",
    "    more = []\n",
    "    if len(arr) <= 1:\n",
    "        return arr\n",
    "    \n",
    "    pivot = arr[0]\n",
    "    pivotlist.append(pivot)\n",
    "    for i in range(1, len(arr)):\n",
    "        if arr[i] < pivot:\n",
    "            less.append(arr[i])\n",
    "        else:\n",
    "            more.append(arr[i])\n",
    "            \n",
    "    less = quickSort(less)\n",
    "    more = quickSort(more)\n",
    "    result = less+pivotlist+more\n",
    "    return result\n",
    "\n",
    "arr = [3, 2, 8, 5]\n",
    "quickSort(arr)\n",
    "            \n",
    "    "
   ]
  },
  {
   "cell_type": "code",
   "execution_count": 10,
   "metadata": {},
   "outputs": [
    {
     "name": "stdout",
     "output_type": "stream",
     "text": [
      "[4 3 0 1 2 5]\n",
      "[0 1 2 3 4 5]\n"
     ]
    }
   ],
   "source": [
    "# 堆排序\n",
    "\n",
    "# 堆是一种完全二叉树「除了最后一层以后堆其他每一层都被完全填充，并让所有借点都保持向左对齐」\n",
    "# 堆可以分为大根堆和小根堆\n",
    "# 「大根堆」每个节点的值都大于等于左右孩子节点的值，k_i >= k_(2i) and k_i >= k_(2i+1)\n",
    "# 「小根堆」每个节点的值小于等于左右孩子节点的值, k_i <= k_(2i) and k_i <= k_(2i+1)\n",
    "# 主要考虑1. 构造大/小根堆 2. 输出堆顶元素， 如何使剩下的元素维持性质\n",
    "\n",
    "def heapify(arr, n, i):\n",
    "    largest = i\n",
    "    left = 2*i + 1\n",
    "    right = 2*i + 2\n",
    "    \n",
    "    if left < n and arr[largest] < arr[left]:\n",
    "        largest = left\n",
    "    \n",
    "    if right < n and arr[largest] < arr[right]:\n",
    "        largest = right\n",
    "    \n",
    "    if largest != i:\n",
    "        arr[largest], arr[i] = arr[i], arr[largest]\n",
    "        heapify(arr, n, largest)\n",
    "\n",
    "def heapSort(arr):\n",
    "    n = len(arr)\n",
    "    \n",
    "    for i in range(n, -1, -1):\n",
    "        heapify(arr, n, i)\n",
    "    \n",
    "    for i in range(n-1, 0, -1):\n",
    "        arr[i], arr[0] = arr[0], arr[i]\n",
    "        heapify(arr, i, 0)\n",
    "\n",
    "array2 = np.arange(6)\n",
    "random.shuffle(array2)\n",
    "print(array2)\n",
    "heapSort(array2)\n",
    "print(array2)"
   ]
  },
  {
   "cell_type": "code",
   "execution_count": 11,
   "metadata": {},
   "outputs": [
    {
     "data": {
      "text/plain": [
       "deque(['y', 'a', 'b', 'c', 'x'])"
      ]
     },
     "execution_count": 11,
     "metadata": {},
     "output_type": "execute_result"
    }
   ],
   "source": [
    "# deque 为了实现插入和删除操作的双向列表，适用于队列和栈\n",
    "from collections import deque\n",
    "q = deque(['a', 'b', 'c'])\n",
    "q.append('x')\n",
    "q.appendleft('y')\n",
    "q"
   ]
  },
  {
   "cell_type": "code",
   "execution_count": 13,
   "metadata": {},
   "outputs": [
    {
     "name": "stdout",
     "output_type": "stream",
     "text": [
      "{'a': 5, 'b': 2, 'r': 2, 'c': 1, 'd': 1}\n",
      "Counter({'a': 5, 'b': 2, 'r': 2, 'c': 1, 'd': 1})\n",
      "{'a': 5, 'b': 2, 'r': 2, 'c': 1, 'd': 1}\n"
     ]
    }
   ],
   "source": [
    "# 计数器\n",
    "L = 'abracadabra'\n",
    "def histogram(L):\n",
    "    d = {}\n",
    "    for x in L:\n",
    "        if x in d:\n",
    "            d[x] += 1\n",
    "        else:\n",
    "            d[x] = 1\n",
    "    return(d)\n",
    "\n",
    "print(histogram(L))\n",
    "\n",
    "from collections import Counter\n",
    "print(Counter(L))\n",
    "\n",
    "counts = dict()\n",
    "for i in L:\n",
    "    counts[i] = counts.get(i, 0) + 1 #.get allows to specify a default value if the key does not exist\n",
    "print(counts)"
   ]
  },
  {
   "cell_type": "code",
   "execution_count": 14,
   "metadata": {},
   "outputs": [
    {
     "name": "stdout",
     "output_type": "stream",
     "text": [
      "[1, 2, 3, 4, 6]\n"
     ]
    }
   ],
   "source": [
    "# 计数排序\n",
    "# 将输入的数据值转化为键存储在额外开辟的数组空间里，输入的数据必须有确定的范围\n",
    "# bucket 统计输入的数值出现的次数\n",
    "\n",
    "def countSort(nums):\n",
    "    bucket = [0]*(max(nums) + 1)\n",
    "    output = [0]*(len(nums))\n",
    "    for num in nums:\n",
    "        bucket[num] += 1\n",
    "    i = 0\n",
    "    for j in range(len(bucket)):\n",
    "        while bucket[j] > 0:\n",
    "            output[i] = j\n",
    "            bucket[j] -= 1\n",
    "            i = i + 1\n",
    "    return output\n",
    "\n",
    "array = [1, 4, 3, 6, 2]\n",
    "print(countSort(array))  "
   ]
  },
  {
   "cell_type": "code",
   "execution_count": 15,
   "metadata": {},
   "outputs": [
    {
     "name": "stdout",
     "output_type": "stream",
     "text": [
      "[1, 4, 3, 6, 2]\n",
      "[1, 2, 3, 4, 6]\n"
     ]
    }
   ],
   "source": [
    "# 桶排序\n",
    "# 数组划分为n个大小相同的bucket，space = (max - min + 1)/ 桶数， 每个区间各自排序最后合并\n",
    "\n",
    "def bucket_sort(arr):\n",
    "    buckets = [0] * (max(arr) - min(arr) + 1)\n",
    "    for i in range(len(arr)):\n",
    "        # 桶的序号i本质是原数列中相应的数值与数列最小值的差值 \n",
    "        buckets[arr[i] - min(arr)] += 1\n",
    "    b = []\n",
    "    for i in range(len(buckets)):\n",
    "        if buckets[i] != 0:\n",
    "            # i + min(arr) 是原数列的序号\n",
    "            b += [i + min(arr)] * buckets[i]\n",
    "    return b\n",
    "\n",
    "array = [1, 4, 3, 6, 2]\n",
    "print(array)\n",
    "print(bucket_sort(array)) "
   ]
  },
  {
   "cell_type": "code",
   "execution_count": 16,
   "metadata": {},
   "outputs": [
    {
     "name": "stdout",
     "output_type": "stream",
     "text": [
      "[10, 15, 22, 40]\n"
     ]
    }
   ],
   "source": [
    "# 基数排序\n",
    "# 对个位 -- 十位 -- 百位 依次排序，最终得到有序序列\n",
    "def radix_sort(array, d): # d 表示轮数\n",
    "    for i in range(d):\n",
    "        s = [[] for i in range(10)]\n",
    "        for j in array:\n",
    "            s[int(j / (10 ** i)) % 10].append(j)\n",
    "        re = [a for b in s for a in b]\n",
    "    return re\n",
    "\n",
    "array = [10, 22, 15, 40]\n",
    "print(radix_sort(array, 2))"
   ]
  }
 ],
 "metadata": {
  "kernelspec": {
   "display_name": "Python 3",
   "language": "python",
   "name": "python3"
  },
  "language_info": {
   "codemirror_mode": {
    "name": "ipython",
    "version": 3
   },
   "file_extension": ".py",
   "mimetype": "text/x-python",
   "name": "python",
   "nbconvert_exporter": "python",
   "pygments_lexer": "ipython3",
   "version": "3.6.5"
  }
 },
 "nbformat": 4,
 "nbformat_minor": 2
}
