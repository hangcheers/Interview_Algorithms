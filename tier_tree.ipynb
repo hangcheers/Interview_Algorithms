{
 "cells": [
  {
   "cell_type": "markdown",
   "metadata": {},
   "source": [
    "字典树（tier tree）    \n",
    "\n",
    "**概念：**  \n",
    "\n",
    "例如查找“hello”的过程是 \"h\" -> \"he\" -> \"hel\" -> \"hell\" -> \"hello\", 我们使用boolean标志位来判断以该节点结尾的这条路径是不是一个单词。不管是寻找单词还是寻找前缀，我们都是从上往下去查找。比如我们从根节点去找 hello 的第一个字符，也就是\"h\"， 我们会直接访问 root.children['h' - 'a'] 所代表的节点。 因为是从上到下的关系，下一层的信息依赖与上一层的children数组，字典树的root不代表任何字符，只是一个搜索的入口。查找一个单词和插入一个单词类似，就是确认一条路径是否存在的过程。 \n",
    "\n",
    "**两大基本用法：**  \n",
    "1. 确认一个单词是否在字典中存在   \n",
    "2. 确认字典中是否含有前缀的单词。  \n",
    "第二点可以扩展为，求字典中含有某前缀的所有单词，计算字典中含有某前缀的单词的个数，计算字典中含有某前缀出现的频率。  \n",
    "\n",
    "**性能分析**  \n",
    "\n",
    "字典树的查找和插入单词的时间复杂度都是 O(L), L是单词的长度。如果是利用哈希表来确认一个字符串是否存在，需要计算元素的哈希值和查找并确认元素是否存在。为了减少哈希冲突，哈希函数需要将整个字符串给扫描一遍，此时的时间复杂度 O(L), 然后根据哈希值找到对应的位置，需要去比较判断当前的字符是不是我们要找的，两个字符串的比较只能是挨个比较，时间负责度也是 O(L)。 因此从时间上来看，在字符串的查找方面，哈希表不会比字典树更优。从空间上来看，由于字典树具有字符串前缀的相关功能，具有相同前缀的单词的存储会被压缩。\n",
    "\n",
    "\n",
    "字典树在实际中也有被运用到，如「**搜索引擎的自动补全**」, 「**拼写检查**」"
   ]
  },
  {
   "cell_type": "code",
   "execution_count": 1,
   "metadata": {},
   "outputs": [
    {
     "name": "stdout",
     "output_type": "stream",
     "text": [
      "True\n",
      "True\n"
     ]
    }
   ],
   "source": [
    "# E.g\n",
    "# 两次insert， 一次插入apple， 一次插入app\n",
    "# apple {'a': {'p': {'p': {'l': {'e': {'end':True}}}}}}\n",
    "# app   {'a': {'p': {'p': {'l': {'e': {'end':True}}, 'end': True }}}}\n",
    "\n",
    "# 实现tier tree，包含insert, search, startwith 三个操作\n",
    "from collections import defaultdict\n",
    "\n",
    "class TrieNode:\n",
    "    def __init__(self):\n",
    "        self.child = defaultdict(TrieNode)\n",
    "        self.isword = False\n",
    "\n",
    "class Trie:\n",
    "    def __init__(self):\n",
    "        self.root = TrieNode()\n",
    "        \n",
    "    def insert(self, word):\n",
    "        \"\"\"\n",
    "        insert a word into the trie tree\n",
    "        \"\"\"\n",
    "        cur = self.root\n",
    "        for w in word:\n",
    "            cur = cur.child[w]\n",
    "        # 标记终点\n",
    "        cur.isword = True\n",
    "        \n",
    "    def search(self, word):\n",
    "        \"\"\"\n",
    "        return if the word is in the trie\n",
    "        \"\"\"\n",
    "        cur = self.root\n",
    "        for w in word:\n",
    "            if w not in cur.child:\n",
    "                return False\n",
    "            cur = cur.child[w]\n",
    "        return cur.isword\n",
    "    \n",
    "    def startsWith(self, prefix):\n",
    "        cur = self.root\n",
    "        for p in prefix:\n",
    "            if p not in cur.child:\n",
    "                return False\n",
    "            cur = cur.child[p]\n",
    "        return True\n",
    "    \n",
    "tier = Trie()\n",
    "tier.insert('apple')\n",
    "print(tier.search('apple'))\n",
    "print(tier.startsWith('ap'))\n"
   ]
  },
  {
   "cell_type": "code",
   "execution_count": 2,
   "metadata": {},
   "outputs": [
    {
     "name": "stdout",
     "output_type": "stream",
     "text": [
      "True\n",
      "True\n"
     ]
    }
   ],
   "source": [
    "from collections import defaultdict\n",
    "\n",
    "class TrieNode:\n",
    "    def __init__(self):\n",
    "        self.child = defaultdict(TrieNode)\n",
    "        self.isword = False\n",
    "        \n",
    "class Trie:\n",
    "    def __init__(self):\n",
    "        self.root = TrieNode()\n",
    "    \n",
    "    def insert(self, word):\n",
    "        cur = self.root\n",
    "        for w in word:\n",
    "            cur = cur.child[w]\n",
    "        cur.isword = True\n",
    "        \n",
    "    def search(self, word):\n",
    "        cur = self.root\n",
    "        for w in word:\n",
    "            if w not in cur.child:\n",
    "                return False\n",
    "            cur = cur.child[w]\n",
    "        return cur.isword\n",
    "    \n",
    "    def startwith(self, prefix):\n",
    "        cur = self.root\n",
    "        for p in prefix:\n",
    "            if p not in cur.child:\n",
    "                return False\n",
    "            cur = cur.child[p]\n",
    "        return True\n",
    "            \n",
    "    \n",
    "tier = Trie()\n",
    "tier.insert('apple')\n",
    "print(tier.search('apple'))\n",
    "print(tier.startwith('ap'))\n",
    "            "
   ]
  },
  {
   "cell_type": "markdown",
   "metadata": {},
   "source": [
    "1. “.” 表示匹配任意单个字符， “*” 表示匹配0个或多个前面的那一个元素  \n",
    "2. 递归 + 暴力dfs 求解  \n",
    "字符串划分为字符，字符串的比较变成字符的比较， s[i, i+1,...n] 是否能匹配 p[j, j+1, j+2...m]的子问题为 s[i+1,...n] 和 p[j+1, j+2...m]  但是字符串s中没有特殊字符，只有字母。字符串p，我们需要考虑两个特殊字符'.'和'*'"
   ]
  },
  {
   "cell_type": "code",
   "execution_count": 3,
   "metadata": {},
   "outputs": [
    {
     "data": {
      "text/plain": [
       "True"
      ]
     },
     "execution_count": 3,
     "metadata": {},
     "output_type": "execute_result"
    }
   ],
   "source": [
    "\n",
    "# 匹配是指字符串的所有字符匹配整个模式\n",
    "\n",
    "# s [0, 1, ...,n-1]\n",
    "# p [0, 1, ...,m-1]\n",
    "# 要防止数组越界\n",
    "class Solution:\n",
    "    \n",
    "    def match(self, string, i, pattern,  j):\n",
    "        # 字符串 和 模式串 都到结尾\n",
    "        if i == len(string)-1 and j == len(pattern)-1:\n",
    "            return True\n",
    "        # 模式串到了结尾，字符串没到\n",
    "        elif j == len(pattern)-1:\n",
    "            return False    \n",
    "        # 字符串到了结尾，模式串没到，仍可能成立, 如 a*a*a* \n",
    "        # 设置标志位，对\"*\"的情况讨论\n",
    "        next = (pattern[j+1] == '*') and ((j+2) < len(pattern))\n",
    "        # 模式串的第二个字符是 *\n",
    "        if next:\n",
    "            # 字符串后移一位，模式串不变，相当于x*匹配多位\n",
    "            # 字符串不动，模式串后移两位，相当于x*被忽略\n",
    "            if (string[i] == pattern[j]) or (pattern[j] == '.' and i+1 < len(string)):\n",
    "                return (self.match(string, i, pattern,  j+2) or self.match(string, i+1, pattern,  j))\n",
    "            # 字符串第一位和模式串第一位不匹配，模式串第二位为*，模式串后移2位\n",
    "            else:\n",
    "                return self.match(string, i, pattern,  j+2)\n",
    "        # 模式串的第二个字符不是 * \n",
    "        else:\n",
    "            if (string[i] == pattern[j]) or (pattern[j] == '.' and i+1 < len(string)):\n",
    "                \n",
    "                return self.match(string, i+1, pattern, j+1)\n",
    "            else:\n",
    "                return False\n",
    "\n",
    "string = 'abc'\n",
    "pattern = 'a*bc'\n",
    "s = Solution()\n",
    "s.match(string, 0, pattern, 0)\n"
   ]
  }
 ],
 "metadata": {
  "kernelspec": {
   "display_name": "Python 3",
   "language": "python",
   "name": "python3"
  },
  "language_info": {
   "codemirror_mode": {
    "name": "ipython",
    "version": 3
   },
   "file_extension": ".py",
   "mimetype": "text/x-python",
   "name": "python",
   "nbconvert_exporter": "python",
   "pygments_lexer": "ipython3",
   "version": "3.6.5"
  }
 },
 "nbformat": 4,
 "nbformat_minor": 2
}
