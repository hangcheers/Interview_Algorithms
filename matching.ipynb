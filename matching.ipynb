{
 "cells": [
  {
   "cell_type": "markdown",
   "metadata": {},
   "source": [
    "字符串匹配，主串为main_str，模式串为pattern，查找的过程就是不断移动pattern的过程。如何高效的移动就是算法的意义所在。"
   ]
  },
  {
   "cell_type": "markdown",
   "metadata": {},
   "source": [
    "***BF算法***"
   ]
  },
  {
   "cell_type": "code",
   "execution_count": 1,
   "metadata": {},
   "outputs": [
    {
     "data": {
      "text/plain": [
       "6"
      ]
     },
     "execution_count": 1,
     "metadata": {},
     "output_type": "execute_result"
    }
   ],
   "source": [
    "# 暴力匹配法\n",
    "def search(main_str, pattern):\n",
    "    m = len(main_str)\n",
    "    p = len(pattern)\n",
    "    if m == 0 or p == 0 or m < p:\n",
    "        return -1\n",
    "    for i in range(0, m-p+1):\n",
    "        subStr = main_str[i:i+p]\n",
    "        if subStr == pattern:\n",
    "            return i\n",
    "    return -1\n",
    "main_str = 'acbcabdab'\n",
    "pattern = 'dab'\n",
    "search(main_str, pattern)"
   ]
  },
  {
   "cell_type": "markdown",
   "metadata": {},
   "source": [
    "***Boyer-Moore 算法***  \n",
    "基于*坏字符规则 (bad-character shift) 和 好后缀规则 (good-suffix shift)* ，尽可能排除无法匹配的位置，加快搜索的步骤。  \n"
   ]
  },
  {
   "cell_type": "code",
   "execution_count": 2,
   "metadata": {},
   "outputs": [
    {
     "name": "stdout",
     "output_type": "stream",
     "text": [
      "65\n",
      "90\n",
      "97\n",
      "122\n"
     ]
    }
   ],
   "source": [
    "# ord 函数以一个字符（长度为1的字符串）作为参数，返回对应的 ASCII 数值\n",
    "print(ord('A'))\n",
    "print(ord('Z'))\n",
    "print(ord('a'))\n",
    "print(ord('z'))"
   ]
  },
  {
   "cell_type": "markdown",
   "metadata": {},
   "source": [
    "**散列表**  \n",
    "理想的散列表（哈希表）是包含「关键字」的具有固定大小的数组，能以常数时间执行「插入、删除、查找」。\n",
    "每个关键字被映射到 0 到 N-1 范围内，并放到合适的位置，这个映射规则就称为散列函数。  \n",
    "理想情况下，两个不同的关键字映射到不同的单元，但由于数组单元有限，关键字的范围可能超过数组单元。\n",
    "当两个关键字散列到同一个值的时候，就是散列冲突。\n",
    "\n",
    "e.g: 假设有一个大小为7的表，要将13， 18， 19， 50 散列到表中  \n",
    "\n",
    "table：  \n",
    "idx: 0 | 1 | 2 | 3 | 4 | 5 | 6 |  \n",
    "\n",
    "val:   |50 |   |   |18 |19 |13 |  \n",
    "\n",
    "table[i%7]= i, 可以快速从散列表中查找数据\n",
    "\n",
    "如果再插入20到这个表中，则会有散列冲突。\n",
    "解决散列冲突的方法通常有：  \n",
    "1.拉链法 (将同一个值的关键字保存在同一个表中，另外分配新的单元来存储散列到同一个位置的数据，但是在查找的时候，\n",
    "除了根据计算出的散列值找到对应的位置外，还需要在链表中进行搜索，查找效率低）   \n",
    "\n",
    "2.开放定址法 （如果发生冲突，就选择另一个可用的位置，例如线性探测法）20%7=6 （6+1）%6=1  \n",
    "\n",
    "3.再散列法 （建立一个是原来两倍大小的散列表，将原来表中的关键字重新散列到新表中）"
   ]
  },
  {
   "cell_type": "code",
   "execution_count": 3,
   "metadata": {},
   "outputs": [],
   "source": [
    "# 用散列表来存储模式串的字符和下标 \n",
    "# 便于查找字符串在模式串中的位置\n",
    "def generatebc(pattern):\n",
    "    bc = [-1] * 265 \n",
    "    n = len(pattern)\n",
    "    for i in range(n):\n",
    "        index = ord(pattern[i])\n",
    "        bc[index] = i\n",
    "    return bc"
   ]
  },
  {
   "cell_type": "markdown",
   "metadata": {},
   "source": [
    "查找主串中「不匹配的字符」（坏字符）在模式串中的位置  \n",
    "1. 主串中坏字符的位置对应在模式串中的位置 main_str index（s_i)  \n",
    "2. 主串的坏字符在模式串的位置 pattern index（x_i)  \n",
    "\n",
    "模式串移动的距离为（s_i-x_i)"
   ]
  },
  {
   "cell_type": "code",
   "execution_count": 4,
   "metadata": {},
   "outputs": [
    {
     "name": "stdout",
     "output_type": "stream",
     "text": [
      "3\n",
      "2\n"
     ]
    }
   ],
   "source": [
    "def findBadChar(substr, pattern, bc):\n",
    "    n = len(substr) - 1\n",
    "    j = -1 # s_i\n",
    "    k = -1 # x_i\n",
    "    badchar = ''\n",
    "    for i in range(n, -1, -1):\n",
    "        if substr[i] != pattern[i]:\n",
    "            j = i\n",
    "            badchar = substr[i]\n",
    "            break\n",
    "    if j > 0: \n",
    "        k = bc[ord(badchar)]\n",
    "    return j, k\n",
    "   \n",
    "    \n",
    "substr = 'babc'\n",
    "pattern = 'abce'\n",
    "bc = generatebc(pattern)\n",
    "j, k = findBadChar(substr, pattern, bc)\n",
    "print(j) \n",
    "print(k)"
   ]
  },
  {
   "cell_type": "markdown",
   "metadata": {},
   "source": [
    "坏字符原则\n",
    "1. 如果模式串中没有出现「坏字符」，模式串整体移动 len(pattern)的长度\n",
    "2. 如果模式串中出现「坏字符」，模式串移动，使得模式串最靠右的字符与坏字符的位置相对"
   ]
  },
  {
   "cell_type": "code",
   "execution_count": 5,
   "metadata": {},
   "outputs": [
    {
     "name": "stdout",
     "output_type": "stream",
     "text": [
      "Pattern occur at shift = 2\n",
      "Pattern stop at shift = 5\n",
      "True\n"
     ]
    }
   ],
   "source": [
    "main_str = 'bfabce'\n",
    "pattern = 'abce'\n",
    "\n",
    "def move(main_str, pattern):\n",
    "    n = len(main_str)\n",
    "    m = len(pattern)\n",
    "    if n == 0 or m == 0 or n < m:\n",
    "        return -1\n",
    "    for i in range(0, n-m+1):\n",
    "        substr = main_str[i:i+m]  # last: main_str[n-m:n] \n",
    "        bc = generatebc(pattern)\n",
    "        txt_idx, pat_idx = findBadChar(substr, pattern, bc)\n",
    "        if txt_idx != -1 and pat_idx == -1: # 模式串中没有「坏字符」\n",
    "            step = m\n",
    "            if (i+2*m) <= n:\n",
    "                substr = main_str[i+m:i+2*m]\n",
    "                if substr == pattern:\n",
    "                    print(\"Pattern occur at shift = {}\".format(i+step))\n",
    "                    print(\"Pattern stop at shift = {}\".format(i+m+step-1))\n",
    "                    return True\n",
    "        if txt_idx != -1 and pat_idx != -1: # # 模式串中出现「坏字符」\n",
    "            step = txt_idx - pat_idx\n",
    "            if (i+m+step) <= n:\n",
    "                substr = main_str[i+step:i+m+step]\n",
    "                if substr == pattern:\n",
    "                    print(\"Pattern occur at shift = {}\".format(i+step))\n",
    "                    print(\"Pattern stop at shift = {}\".format(i+m+step-1))\n",
    "                    return True\n",
    "    return False\n",
    "                \n",
    "print(move(main_str, pattern))            \n",
    "        \n"
   ]
  },
  {
   "cell_type": "code",
   "execution_count": 6,
   "metadata": {},
   "outputs": [
    {
     "name": "stdout",
     "output_type": "stream",
     "text": [
      "False\n"
     ]
    }
   ],
   "source": [
    "main_str2 = 'aaaa'\n",
    "pattern2 = 'ba'\n",
    "print(move(main_str2, pattern2))"
   ]
  },
  {
   "cell_type": "markdown",
   "metadata": {},
   "source": [
    "好后缀规则  \n",
    "1. 找到好后缀的所有后缀子串  \n",
    "2. 找出模式串的所有前缀子串  \n",
    "3. 找到好后缀中最长的能和模式串的前缀子串匹配的后缀子串  \n",
    "\n",
    "note: 好后缀的后缀子串，本身也是模式串的后缀子串，利用这个特点在模式串中找到对应的字符\n"
   ]
  },
  {
   "cell_type": "code",
   "execution_count": 7,
   "metadata": {},
   "outputs": [
    {
     "name": "stdout",
     "output_type": "stream",
     "text": [
      "[-1, 3, 2, 1]\n",
      "[False, True, False, False]\n"
     ]
    }
   ],
   "source": [
    "# generateGS 判断模式串中是否存在和好后缀相同的字符串\n",
    "# suffix[k] = n ，子串长度为k，它对应的前缀的起始位置为i，即[i, i+1, ..., i+k-1]\n",
    "# prefix, Boolean, 记录模式串是否存在和后缀相同的字符串\n",
    "def generateGS(pattern, substr):\n",
    "    n = len(pattern)\n",
    "    suffix = [-1 for i in range(n)]\n",
    "    prefix = [False for i in range(n)]\n",
    "    for i in range(n):\n",
    "        j = i\n",
    "        k = 0 # 子串的长度\n",
    "        while (j >=0) and (pattern[j] == substr[n-1-k]):\n",
    "            k = k+1\n",
    "            suffix[k] = j \n",
    "            j = j-1\n",
    "        if j == -1:\n",
    "            prefix[k] = True\n",
    "    return suffix, prefix\n",
    "\n",
    "# pattern[0] == main_str[3]\n",
    "# k = 1\n",
    "# suffix[1] = 0 \n",
    "# prefix[1] = True\n",
    "\n",
    "\n",
    "\n",
    "main_str3 = 'ecab'\n",
    "pattern = 'bcab'\n",
    "suffix, prefix = generateGS(pattern, main_str3)\n",
    "print(suffix)\n",
    "print(prefix)\n",
    "        "
   ]
  },
  {
   "cell_type": "markdown",
   "metadata": {},
   "source": [
    "***kmp算法***"
   ]
  },
  {
   "cell_type": "markdown",
   "metadata": {},
   "source": [
    "prefix 始终包括第一个字符，但不包括字符串的最后一个字符。  \n",
    "suffix 始终包括最后一个字符，但不包括字符串的第一个字符。   \n",
    "\n",
    "next[j]=k 代表j之前的字符串中有最大长度为k的相同的前缀后缀。\n",
    "j = next[j] 相当于模式串右移了 j-next[j]的距离\n"
   ]
  },
  {
   "cell_type": "code",
   "execution_count": 16,
   "metadata": {},
   "outputs": [
    {
     "name": "stdout",
     "output_type": "stream",
     "text": [
      "3\n",
      "[-1, 0, 0, 0, 0, 1, 2, 3, 1]\n"
     ]
    }
   ],
   "source": [
    "def KmpSearch(txt, pattern):\n",
    "    n = len(txt)\n",
    "    i = 0 # txt_index\n",
    "    m = len(pattern)\n",
    "    j = 0 # pattern_index\n",
    "    _next = getNext(pattern) # 基于next数组进行匹配\n",
    "    while i < n and j < m:\n",
    "        if j == -1 or txt[i] == pattern[j]:\n",
    "            i = i+1\n",
    "            j = j+1\n",
    "        elif j != -1 and txt[i] != pattern[j]:\n",
    "            j = _next[j] # 递归\n",
    "    \n",
    "    # 匹配成功\n",
    "    if j == m:\n",
    "        return (i - j)\n",
    "    # 匹配失败\n",
    "    return -1\n",
    "        \n",
    "# [P_0, P_1, ..., P_{K-1}] P_{K}, .... [P_{j-k}, P_{j-k+1}, ..., P_{j-1}] P_{j}  \n",
    "# P[k] == P[j] : next[j+1] = k+1 注意边界条件 j+1 < m \n",
    "# P[k] != P[j] : k = next[k] \n",
    "def getNext(pattern):\n",
    "    m = len(pattern)\n",
    "    _next = [-1]*m\n",
    "    k = -1 # prefix index\n",
    "    j = 0 # suffix index\n",
    "    while j < (m-1):\n",
    "        if (k == -1 or pattern[k] == pattern[j]):\n",
    "            k = k+1\n",
    "            j = j+1\n",
    "            _next[j] = k\n",
    "        else:\n",
    "            k = _next[k]\n",
    "    return _next\n",
    "            \n",
    "txt = 'cdfabde' \n",
    "pattern = 'abd'\n",
    "find = KmpSearch(txt, pattern)\n",
    "print(find)\n",
    "\n",
    "pattern2 = 'DABCDABDE'\n",
    "print(getNext(pattern2))\n",
    "    "
   ]
  },
  {
   "cell_type": "code",
   "execution_count": null,
   "metadata": {},
   "outputs": [],
   "source": []
  }
 ],
 "metadata": {
  "kernelspec": {
   "display_name": "Python 3",
   "language": "python",
   "name": "python3"
  },
  "language_info": {
   "codemirror_mode": {
    "name": "ipython",
    "version": 3
   },
   "file_extension": ".py",
   "mimetype": "text/x-python",
   "name": "python",
   "nbconvert_exporter": "python",
   "pygments_lexer": "ipython3",
   "version": "3.6.5"
  }
 },
 "nbformat": 4,
 "nbformat_minor": 2
}
