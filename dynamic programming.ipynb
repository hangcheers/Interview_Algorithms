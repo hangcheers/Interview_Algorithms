{
 "cells": [
  {
   "cell_type": "markdown",
   "metadata": {},
   "source": [
    "动态规划算法：  \n",
    "之前的问题和当前的问题有着关联性，之前的问题的答案可以帮助解决当前问题。因此需要记录之前问题的答案。  \n",
    "\n",
    "步骤：  \n",
    "1. 问题拆解，找到问题之间的具体联系  \n",
    "2. 状态定义  \n",
    "3. 递推方程推导  \n",
    "4. 实现  \n",
    " "
   ]
  },
  {
   "cell_type": "markdown",
   "metadata": {},
   "source": [
    "爬楼梯，需要爬n阶才能爬到楼顶。每次可以爬1或两个台阶，一共有多少种不同的方法。"
   ]
  },
  {
   "cell_type": "code",
   "execution_count": 20,
   "metadata": {},
   "outputs": [
    {
     "data": {
      "text/plain": [
       "5"
      ]
     },
     "execution_count": 20,
     "metadata": {},
     "output_type": "execute_result"
    }
   ],
   "source": [
    "# floor \n",
    "# n = (n-1) + 1 OR n = (n-2) + 2\n",
    "# dp[i] = dp[i-1] + dp[i-2]\n",
    "\n",
    "def floor(n):\n",
    "    dp = [0 for i in range(n+1)]\n",
    "    # 起始位置，不需要移动\n",
    "    dp[0] = 0\n",
    "    # 第一层楼\n",
    "    dp[1] = 1\n",
    "    # 第二层楼\n",
    "    dp[2] = 2\n",
    "    for i in range(3, n+1):\n",
    "        dp[i] = dp[i-1] + dp[i-2]\n",
    "    return dp[n]\n",
    "floor(4)"
   ]
  },
  {
   "cell_type": "code",
   "execution_count": 22,
   "metadata": {},
   "outputs": [
    {
     "data": {
      "text/plain": [
       "[1, 1, 2, 3, 5, 8]"
      ]
     },
     "execution_count": 22,
     "metadata": {},
     "output_type": "execute_result"
    }
   ],
   "source": [
    "# [1, 1, 2, 3, 5, 8]\n",
    "def Fibonacci(n):\n",
    "    dp = [0 for i in range(n+1)]\n",
    "    dp[0] = 0\n",
    "    dp[1] = 1\n",
    "    for i in range(2, n+1):\n",
    "        dp[i] = dp[i-1] + dp[i-2]\n",
    "    return dp[1:]\n",
    "Fibonacci(6)"
   ]
  },
  {
   "cell_type": "markdown",
   "metadata": {},
   "source": [
    "最大连续子序列之和：  \n",
    "k个整数序列「N1, N2, ..., Nk」, 其中任意连续子序列可表示为「Ni, Ni+1, ...., Nj」,  1<=i<=j<=k. 最大连续子序列是所有连续子序列中元素和最大的一个。子序列最少包含一个元素\n",
    "\n",
    "E.g 给定序列「-2，11，-4，13，5，-2」，其最大连续子序列为「11，-4，13」，最大和为20"
   ]
  },
  {
   "cell_type": "code",
   "execution_count": 28,
   "metadata": {},
   "outputs": [
    {
     "data": {
      "text/plain": [
       "20"
      ]
     },
     "execution_count": 28,
     "metadata": {},
     "output_type": "execute_result"
    }
   ],
   "source": [
    "# 子数组可以看作一个区间，如果确定一个子数组的截止元素在 i 这个位置，\n",
    "# 然后我们需要考虑的问题是，以i为结尾的所有子数组，和最大的为多少  \n",
    "# 根据题意，我们拆解为两个部分来看 \n",
    "# 1. i位置的元素自成一个子数组 a[i]  \n",
    "# 2. i位置的元素 + 以 i-1 结尾的所有子数组的和的最大的值\n",
    "\n",
    "# sum_val[i] = max(sum_val[i-1] + a[i], a[i])\n",
    "# 上面的可以化简为\n",
    "# sum_val[i] = max(sum_val[i-1], 0) + a[i]\n",
    "\n",
    "def max_sub(arr):\n",
    "    if len(arr) == 0: return 0\n",
    "    # dp 存储的是 (max_here)\n",
    "    dp = [0 for i in range(len(arr))]\n",
    "    # 初始化\n",
    "    dp[0] = arr[0]\n",
    "    # result 存储的是 (max_sum)\n",
    "    result = arr[0]\n",
    "    for i in range(1, len(arr)):\n",
    "        dp[i] = max(dp[i-1], 0) + arr[i]\n",
    "        # 更新最大连续子序列的和\n",
    "        result = max(result, dp[i])\n",
    "    return result\n",
    "\n",
    "arr = [-2, 11, -4, 13, -5,-2]\n",
    "max_sub(arr)\n",
    "        "
   ]
  },
  {
   "cell_type": "code",
   "execution_count": 37,
   "metadata": {},
   "outputs": [
    {
     "name": "stdout",
     "output_type": "stream",
     "text": [
      "20\n",
      "1\n",
      "3\n"
     ]
    }
   ],
   "source": [
    "# 如果还需要输出最大子序列的第一个和最后一个元素 中间用空格分隔\n",
    "# 如果所有k个元素都为负数则定义其最大和为0 \n",
    "\n",
    "# 我们需要考虑的问题是，以i为结尾的所有子数组的最大和连续子序列\n",
    "# 根据题意，我们拆解为两个部分来看 \n",
    "# 1. 最大和连续子序列只有一个元素 a[i] 则 i 是起点index, i 又是终点index\n",
    "# 2. 最大和连续子序列有多个元素 a[j]...a[i] 则 j 是起点index, i是终点index\n",
    "\n",
    "def max_sub_2(arr):\n",
    "    if len(arr) == 0: return 0\n",
    "    dp = [0 for i in range(len(arr))]\n",
    "    # 初始化\n",
    "    dp[0] = arr[0]\n",
    "    # 子序列起点\n",
    "    left = 0\n",
    "    # 子序列终点\n",
    "    right = 0\n",
    "    result = arr[0]\n",
    "    for i in range(1, len(arr)):\n",
    "        # max_here <= 0\n",
    "        if dp[i-1] <= 0:\n",
    "            dp[i] = arr[i]\n",
    "            # 调整左边界\n",
    "            left = i\n",
    "        else:\n",
    "            dp[i] = dp[i-1] + arr[i]\n",
    "        # 更新最大连续子序列\n",
    "        if dp[i] > result:\n",
    "            result = dp[i]\n",
    "            # 调整右边界\n",
    "            right = i\n",
    "    \n",
    "    return result, left, right\n",
    "\n",
    "arr = [-2, 11, -4, 13, -5,-2]\n",
    "result, left, right = max_sub_2(arr)\n",
    "print(result)\n",
    "print(left)\n",
    "print(right)"
   ]
  },
  {
   "cell_type": "markdown",
   "metadata": {},
   "source": [
    "给定一个数值sum, 假设我们有m种不同类型的硬币{$V1, V2, ..., Vm$}, 要组合成sum, 那么我们有  \n",
    "$$ sum = x1*V1 + x2*V2 + ... + xm*Vm $$\n",
    "即求解满足等式的{$x1, x2, ..., xm$}的所有可能性"
   ]
  },
  {
   "cell_type": "code",
   "execution_count": 17,
   "metadata": {},
   "outputs": [
    {
     "data": {
      "text/plain": [
       "3274"
      ]
     },
     "execution_count": 17,
     "metadata": {},
     "output_type": "execute_result"
    }
   ],
   "source": [
    "# coin combinations\n",
    "# dp[i][sumval] = sum(dp[i-1][sumval-k*coins[i-1]])  (k=1, 2, ... sumval/coins[i-1])\n",
    "\n",
    "# 一维dp矩阵\n",
    "def coinCombinations(coins, coinKind, sumval):\n",
    "    dp = [0 for i in range(sumval + 1)] \n",
    "    # 初始条件sumval=0，x1=x2=...=xm=0\n",
    "    dp[0] = 1\n",
    "    # 外层循环表示能够选择的硬币种类\n",
    "    # 内层循环表示每个种类的不同值\n",
    "    for i in range(0, coinKind):\n",
    "        for j in range(coins[i], sumval+1):\n",
    "            dp[j] = dp[j] + dp[j-coins[i]]\n",
    "    return dp[sumval]\n",
    "\n",
    "coins = [1, 5, 10, 20, 50, 100]\n",
    "coinKind = len(set(coins))\n",
    "sumval = 200\n",
    "coinCombinations(coins, coinKind, sumval)"
   ]
  }
 ],
 "metadata": {
  "kernelspec": {
   "display_name": "Python 3",
   "language": "python",
   "name": "python3"
  },
  "language_info": {
   "codemirror_mode": {
    "name": "ipython",
    "version": 3
   },
   "file_extension": ".py",
   "mimetype": "text/x-python",
   "name": "python",
   "nbconvert_exporter": "python",
   "pygments_lexer": "ipython3",
   "version": "3.6.5"
  }
 },
 "nbformat": 4,
 "nbformat_minor": 2
}
