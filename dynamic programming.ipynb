{
 "cells": [
  {
   "cell_type": "markdown",
   "metadata": {},
   "source": [
    "**动态规划算法**：  \n",
    "之前的问题和当前的问题有着关联性，之前的问题的答案可以帮助解决当前问题。因此需要记录之前问题的答案。  \n",
    "\n",
    "步骤：  \n",
    "1. 问题拆解，找到问题之间的具体联系  \n",
    "2. 状态定义  \n",
    "3. 递推方程推导  \n",
    "4. 实现  \n",
    "\n",
    "动态规划的思想强调的是从局部最优解通过一定的策略得到全局最优解，从子问题的答案一步一步的推出整个问题的答案\n",
    " "
   ]
  },
  {
   "cell_type": "markdown",
   "metadata": {},
   "source": [
    "**1.爬楼梯**  \n",
    "\n",
    "爬楼梯，需要爬n阶才能爬到楼顶。每次可以爬1或两个台阶，一共有多少种不同的方法。"
   ]
  },
  {
   "cell_type": "code",
   "execution_count": 1,
   "metadata": {},
   "outputs": [
    {
     "data": {
      "text/plain": [
       "5"
      ]
     },
     "execution_count": 1,
     "metadata": {},
     "output_type": "execute_result"
    }
   ],
   "source": [
    "# floor \n",
    "# n = (n-1) + 1 OR n = (n-2) + 2\n",
    "# dp[i] = dp[i-1] + dp[i-2]\n",
    "\n",
    "def floor(n):\n",
    "    dp = [0 for i in range(n+1)]\n",
    "    # 起始位置，不需要移动\n",
    "    dp[0] = 0\n",
    "    # 第一层楼\n",
    "    dp[1] = 1\n",
    "    # 第二层楼\n",
    "    dp[2] = 2\n",
    "    for i in range(3, n+1):\n",
    "        dp[i] = dp[i-1] + dp[i-2]\n",
    "    return dp[n]\n",
    "floor(4)"
   ]
  },
  {
   "cell_type": "markdown",
   "metadata": {},
   "source": [
    "**1.爬楼梯（升级版）**  \n",
    "\n",
    "一个青蛙可以跳上1级台阶，也可以跳上两级，也可以跳上n级台阶"
   ]
  },
  {
   "cell_type": "code",
   "execution_count": 2,
   "metadata": {},
   "outputs": [
    {
     "data": {
      "text/plain": [
       "8"
      ]
     },
     "execution_count": 2,
     "metadata": {},
     "output_type": "execute_result"
    }
   ],
   "source": [
    "# f(1) = 1\n",
    "# f(2) = f(2-1) + f(2-2)\n",
    "# f(3) = f(3-1) + f(3-2) + f(3-3)\n",
    "# f(n) = f(n-1) + f(n-2) +... f(n-(n-1)) + f(n-n)\n",
    "# f(n) = f(0) + f(1) + f(2) +... + f(n-2) + f(n-1)\n",
    "# f(n-1) = f(0) + f(1) + f(2) + .. + f(n-2)\n",
    "# 根据数学归纳法我们可以得到状态方程\n",
    "# f(n) = 2*f(n-1)\n",
    "def floor_2(n):\n",
    "    dp = [0 for i in range(n+1)]\n",
    "    dp[0] = 0\n",
    "    dp[1] = 1\n",
    "    for i in range(2, n+1):\n",
    "        dp[i] = 2*dp[i-1]\n",
    "    return dp[i]\n",
    "n = 4\n",
    "floor_2(n)"
   ]
  },
  {
   "cell_type": "markdown",
   "metadata": {},
   "source": [
    "**2.杨辉三角**"
   ]
  },
  {
   "cell_type": "code",
   "execution_count": 3,
   "metadata": {},
   "outputs": [
    {
     "data": {
      "text/plain": [
       "[[1], [1, 1], [1, 2, 1], [1, 3, 3, 1], [1, 4, 6, 4, 1]]"
      ]
     },
     "execution_count": 3,
     "metadata": {},
     "output_type": "execute_result"
    }
   ],
   "source": [
    "# C(m, n) = C(m-1, n-1) + C(m-1, n)\n",
    "def Triangel(n):\n",
    "    res = []\n",
    "    if n == 0:\n",
    "        return res\n",
    "    if n == 1:\n",
    "        res.append([1])\n",
    "        return res\n",
    "    if n == 2:\n",
    "        res = [[1], [1, 1]]\n",
    "        return res\n",
    "    res = [[1],[1, 1]]\n",
    "    for i in range(3, n+1):\n",
    "        row_i = [0]*i\n",
    "        row_i[0] = 1\n",
    "        row_i[-1] = 1\n",
    "        for j in range(1, i-1):\n",
    "            row_i[j] = res[i-2][j-1] + res[i-2][j]\n",
    "        res.append(row_i)\n",
    "    return res\n",
    "Triangel(5)\n",
    "        "
   ]
  },
  {
   "cell_type": "markdown",
   "metadata": {},
   "source": [
    "**3.Fibonacci数列**"
   ]
  },
  {
   "cell_type": "code",
   "execution_count": 4,
   "metadata": {},
   "outputs": [
    {
     "data": {
      "text/plain": [
       "[1, 1, 2, 3, 5, 8]"
      ]
     },
     "execution_count": 4,
     "metadata": {},
     "output_type": "execute_result"
    }
   ],
   "source": [
    "# [1, 1, 2, 3, 5, 8]\n",
    "def Fibonacci(n):\n",
    "    dp = [0 for i in range(n+1)]\n",
    "    dp[0] = 0\n",
    "    dp[1] = 1\n",
    "    for i in range(2, n+1):\n",
    "        dp[i] = dp[i-1] + dp[i-2]\n",
    "    return dp[1:]\n",
    "Fibonacci(6)"
   ]
  },
  {
   "cell_type": "markdown",
   "metadata": {},
   "source": [
    "**4.最大连续子序列之和**   \n",
    "\n",
    "k个整数序列「N1, N2, ..., Nk」, 其中任意连续子序列可表示为「Ni, Ni+1, ...., Nj」,  1<=i<=j<=k. 最大连续子序列是所有连续子序列中元素和最大的一个。子序列最少包含一个元素\n",
    "\n",
    "E.g 给定序列「-2，11，-4，13，5，-2」，其最大连续子序列为「11，-4，13」，最大和为20"
   ]
  },
  {
   "cell_type": "code",
   "execution_count": 5,
   "metadata": {},
   "outputs": [
    {
     "data": {
      "text/plain": [
       "20"
      ]
     },
     "execution_count": 5,
     "metadata": {},
     "output_type": "execute_result"
    }
   ],
   "source": [
    "# 子数组可以看作一个区间，如果确定一个子数组的截止元素在 i 这个位置，\n",
    "# 然后我们需要考虑的问题是，以i为结尾的所有子数组，和最大的为多少  \n",
    "# 根据题意，我们拆解为两个部分来看 \n",
    "# 1. i位置的元素自成一个子数组 a[i]  \n",
    "# 2. i位置的元素 + 以 i-1 结尾的所有子数组的和的最大的值\n",
    "\n",
    "# sum_val[i] = max(sum_val[i-1] + a[i], a[i])\n",
    "# 上面的可以化简为\n",
    "# sum_val[i] = max(sum_val[i-1], 0) + a[i]\n",
    "\n",
    "def max_sub(arr):\n",
    "    if len(arr) == 0: return 0\n",
    "    # dp 存储的是 (max_here)\n",
    "    dp = [0 for i in range(len(arr))]\n",
    "    # 初始化\n",
    "    dp[0] = arr[0]\n",
    "    # result 存储的是 (max_sum)\n",
    "    result = arr[0]\n",
    "    for i in range(1, len(arr)):\n",
    "        dp[i] = max(dp[i-1], 0) + arr[i]\n",
    "        # 更新最大连续子序列的和\n",
    "        result = max(result, dp[i])\n",
    "    return result\n",
    "\n",
    "arr = [-2, 11, -4, 13, -5,-2]\n",
    "max_sub(arr)\n",
    "        "
   ]
  },
  {
   "cell_type": "markdown",
   "metadata": {},
   "source": [
    "**4.最大连续子序列之和（升级版）**  "
   ]
  },
  {
   "cell_type": "code",
   "execution_count": 6,
   "metadata": {},
   "outputs": [
    {
     "name": "stdout",
     "output_type": "stream",
     "text": [
      "20\n",
      "1\n",
      "3\n"
     ]
    }
   ],
   "source": [
    "# 如果还需要输出最大子序列的第一个和最后一个元素 \n",
    "# 我们需要考虑的问题是，以i为结尾的所有子数组的最大和连续子序列\n",
    "# 根据题意，我们拆解为两个部分来看 \n",
    "# 1. 最大和连续子序列只有一个元素 a[i] 则 i 是起点index, i 又是终点index\n",
    "# 2. 最大和连续子序列有多个元素 a[j]...a[i] 则 j 是起点index, i是终点index\n",
    "\n",
    "def max_sub_2(arr):\n",
    "    if len(arr) == 0: return 0\n",
    "    dp = [0 for i in range(len(arr))]\n",
    "    # 初始化\n",
    "    dp[0] = arr[0]\n",
    "    # 子序列起点\n",
    "    left = 0\n",
    "    # 子序列终点\n",
    "    right = 0\n",
    "    result = arr[0]\n",
    "    for i in range(1, len(arr)):\n",
    "        # max_here <= 0\n",
    "        if dp[i-1] <= 0:\n",
    "            dp[i] = arr[i]\n",
    "            # 调整左边界\n",
    "            left = i\n",
    "        else:\n",
    "            dp[i] = dp[i-1] + arr[i]\n",
    "        # 更新最大连续子序列\n",
    "        if dp[i] > result:\n",
    "            result = dp[i]\n",
    "            # 调整右边界\n",
    "            right = i\n",
    "    \n",
    "    return result, left, right\n",
    "\n",
    "arr = [-2, 11, -4, 13, -5,-2]\n",
    "result, left, right = max_sub_2(arr)\n",
    "print(result)\n",
    "print(left)\n",
    "print(right)"
   ]
  },
  {
   "cell_type": "markdown",
   "metadata": {},
   "source": [
    "**5.硬币问题**  \n",
    "\n",
    "给定一个数值sum, 假设我们有m种不同类型的硬币{$V1, V2, ..., Vm$}, 要组合成sum, 那么我们有  \n",
    "$$ sum = x1*V1 + x2*V2 + ... + xm*Vm $$\n",
    "即求解满足等式的{$x1, x2, ..., xm$}的所有可能性"
   ]
  },
  {
   "cell_type": "code",
   "execution_count": 7,
   "metadata": {},
   "outputs": [
    {
     "data": {
      "text/plain": [
       "3274"
      ]
     },
     "execution_count": 7,
     "metadata": {},
     "output_type": "execute_result"
    }
   ],
   "source": [
    "# coin combinations\n",
    "# 一维dp矩阵\n",
    "def coinCombinations(coins, coinKind, sumval):\n",
    "    dp = [0 for i in range(sumval + 1)] \n",
    "    # 初始条件sumval=0，x1=x2=...=xm=0\n",
    "    dp[0] = 1\n",
    "    # 外层循环表示能够选择的硬币种类\n",
    "    # 内层循环表示每个种类的不同值\n",
    "    for i in range(0, coinKind):\n",
    "        for j in range(coins[i], sumval+1):\n",
    "            dp[j] = dp[j] + dp[j-coins[i]]\n",
    "    return dp[sumval]\n",
    "\n",
    "coins = [1, 5, 10, 20, 50, 100]\n",
    "coinKind = len(set(coins))\n",
    "sumval = 200\n",
    "coinCombinations(coins, coinKind, sumval)"
   ]
  },
  {
   "cell_type": "code",
   "execution_count": 8,
   "metadata": {},
   "outputs": [
    {
     "data": {
      "text/plain": [
       "3274"
      ]
     },
     "execution_count": 8,
     "metadata": {},
     "output_type": "execute_result"
    }
   ],
   "source": [
    "# 二维dp矩阵\n",
    "# dp[i][j] = sum(dp[i-1][j-k*coins[i-1]]) for k = 1,2,...j/coins[i-1]\n",
    "# dp[0][j] = 1 for j = 0, 1, 2, ..., sum\n",
    "def coinCombinations_2(coins, coinKind, sumval):\n",
    "    dp = [[0]*(sumval+1) for i in range(coinKind+1)]\n",
    "    # dp[i][0] = 1; i = 0, 1, 2, ..., coinKind\n",
    "    for i in range(coinKind+1):\n",
    "        for j in range(sumval+1):\n",
    "            dp[i][0] = 1\n",
    "            max_k = int(j/coins[i-1])\n",
    "            for k in range(max_k+1):\n",
    "                dp[i][j] += dp[i-1][j-k*coins[i-1]]\n",
    "    return dp[coinKind][sumval]\n",
    "\n",
    "coins = [1, 5, 10, 20, 50, 100]\n",
    "coinKind = len(set(coins))\n",
    "sumval = 200\n",
    "coinCombinations_2(coins, coinKind, sumval)"
   ]
  },
  {
   "cell_type": "markdown",
   "metadata": {},
   "source": [
    "**6.数塔问题：**  \n",
    "要求从底层走到顶层，每一步只能走到相邻的结点，则经过的结点的数字之和最大是多少"
   ]
  },
  {
   "cell_type": "code",
   "execution_count": 9,
   "metadata": {},
   "outputs": [
    {
     "name": "stdout",
     "output_type": "stream",
     "text": [
      "59\n"
     ]
    },
    {
     "data": {
      "text/plain": [
       "[[59, 0, 0, 0, 0],\n",
       " [50, 49, 0, 0, 0],\n",
       " [38, 34, 29, 0, 0],\n",
       " [21, 28, 19, 21, 0],\n",
       " [19, 7, 10, 4, 16]]"
      ]
     },
     "execution_count": 9,
     "metadata": {},
     "output_type": "execute_result"
    }
   ],
   "source": [
    "# 状态转移方程：\n",
    "# a[i][j] = a[i][j] + max(a[i-1][j], a[i-1][j-1])\n",
    "# 自底而上的计算\n",
    "data = [[9, 0, 0, 0, 0],[12, 15, 0, 0, 0], [10, 6, 8, 0, 0], [2, 18, 9, 5, 0], [19, 7, 10, 4, 16]]\n",
    "def maxTotal(data):\n",
    "    n = 5\n",
    "    # 从倒数第二层开始算起\n",
    "    for i in range(n-2, -1, -1):\n",
    "        #  0<=j<=i\n",
    "        for j in range(0, i+1): \n",
    "            data[i][j] = data[i][j] + max(data[i+1][j], data[i+1][j+1])\n",
    "    return data\n",
    "\n",
    "new_data = maxTotal(data)\n",
    "# 最后结果保留在最顶层\n",
    "print(data[0][0])\n",
    "new_data"
   ]
  },
  {
   "cell_type": "markdown",
   "metadata": {},
   "source": [
    "**7.背包问题**  \n",
    "\n",
    "0-1背包问题： 有n件物品和一个容量为v的背包。第i件物品的费用是c[i],价值是w[i]，求解哪些物品装入背包可使价值总和最大。"
   ]
  },
  {
   "cell_type": "code",
   "execution_count": 10,
   "metadata": {},
   "outputs": [
    {
     "data": {
      "text/plain": [
       "19"
      ]
     },
     "execution_count": 10,
     "metadata": {},
     "output_type": "execute_result"
    }
   ],
   "source": [
    "# dp[i][v] 件数i和容量V相当于矩阵的index\n",
    "# dp 存储的是价值矩阵\n",
    "# 物品可以选择放，背包的容量变小， 放的价值是 dp[i-1][j-weight[i]] + val[i]\n",
    "# 物品可以选择不放，背包的容量不变， 不放的价值是 dp[i-1][j]\n",
    "# dp[i][j] = max(dp[i-1][j-weight[i]] + val[i], dp[i-1][j] )\n",
    "# value[i] 第i个物体的价值， weight[i] 第i个物体的重量\n",
    "V = 10\n",
    "n = 5\n",
    "value = [0, 8, 10, 4, 5, 5]\n",
    "weight = [0, 6, 4, 2, 4, 3]\n",
    "def bag(value, weight, V, n):\n",
    "    # dp (n+1)*(V+1)\n",
    "    dp = [[0]*(V+1) for i in range(n+1)]\n",
    "    for j in range(V+1):\n",
    "        dp[0][j] = 0\n",
    "    for i in range(n+1):\n",
    "        dp[i][0] = 0\n",
    "    for i in range(1, n+1):\n",
    "        for j in range(0,V+1):\n",
    "            # 装不下了\n",
    "            if j < weight[i]:\n",
    "                dp[i][j] = dp[i-1][j]\n",
    "            # 装的下\n",
    "            else:\n",
    "                dp[i][j] = max(dp[i-1][j-weight[i]]+value[i], dp[i-1][j])\n",
    "    return dp[n][V]\n",
    "\n",
    "bag(value, weight, V, n)"
   ]
  },
  {
   "cell_type": "markdown",
   "metadata": {},
   "source": [
    "除了0-1背包问题，还有完全背包问题，多重背包问题。  \n",
    "\n",
    "完全背包问题：有n种物品和一个容量为v的背包，每种物品有无限件可用。从物品相关的策略就变成了取0件、1件、2件。。。根据0-1背包问题，我们对状态转移方程进行改进: dp[i][j]= max{dp[i-1][j-k * weight[i]] + k * val[i], dp[i-1][j]}\n",
    "\n",
    "背包问题可以拓展到，处理器能力有「时间限制」，任务很多，如何让总效用最大"
   ]
  }
 ],
 "metadata": {
  "kernelspec": {
   "display_name": "Python 3",
   "language": "python",
   "name": "python3"
  },
  "language_info": {
   "codemirror_mode": {
    "name": "ipython",
    "version": 3
   },
   "file_extension": ".py",
   "mimetype": "text/x-python",
   "name": "python",
   "nbconvert_exporter": "python",
   "pygments_lexer": "ipython3",
   "version": "3.6.5"
  }
 },
 "nbformat": 4,
 "nbformat_minor": 2
}
