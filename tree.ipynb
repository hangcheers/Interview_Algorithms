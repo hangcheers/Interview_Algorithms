{
 "cells": [
  {
   "cell_type": "markdown",
   "metadata": {},
   "source": [
    "二叉树的性质：  \n",
    "1. 二叉树的第i层上最多有 $2^{i-1}$ 个节点  \n",
    "2. depth=k的二叉树，最多有 $2^k -1$ 个节点  \n",
    "3. 具有n个结点的完全二叉树的深度为$log_2(n+1)$  \n",
    "\n",
    "完全二叉树: 假设二叉树的depth为k，则除了第k层外，其他各层的节点数都达到最大个数。第k的叶子节点，从左到右依次排布。"
   ]
  },
  {
   "cell_type": "code",
   "execution_count": 1,
   "metadata": {},
   "outputs": [
    {
     "name": "stdout",
     "output_type": "stream",
     "text": [
      "7\n",
      "3\n",
      "3\n",
      "False\n"
     ]
    }
   ],
   "source": [
    "# tree\n",
    "#       A1\n",
    "#  A2       A3\n",
    "#A4 A5    A6\n",
    "#       A7\n",
    "class Node:\n",
    "    def __init__(self, key):\n",
    "        self.key = key\n",
    "        self.left = None\n",
    "        self.right = None\n",
    "\n",
    "class Tree: \n",
    "    # 求二叉树中节点的个数\n",
    "    def numberNode(self, root):\n",
    "        if not root:\n",
    "            return 0\n",
    "        left = self.numberNode(root.left)\n",
    "        right = self.numberNode(root.right)\n",
    "        return left+right+1\n",
    "    \n",
    "    # 求二叉树中叶子节点的个数\n",
    "    def numberLeave(self, root):\n",
    "        if not root:\n",
    "            return 0\n",
    "        if (not root.left) and (not root.right):\n",
    "            return 1\n",
    "        left = self.numberLeave(root.left)\n",
    "        right = self.numberLeave(root.right)\n",
    "        return left + right\n",
    "    \n",
    "    # 求二叉树第k层的节点个数\n",
    "    def k_numberNode(self, root, k):\n",
    "        if not root or k < 1:\n",
    "            return 0\n",
    "        if k == 1:\n",
    "            return 1\n",
    "        left = self.k_numberNode(root.left, k-1)\n",
    "        right = self.k_numberNode(root.right, k-1)\n",
    "        return left + right\n",
    "    \n",
    "    # 两个二叉树是否相同\n",
    "    def issame(self, root1, root2):\n",
    "        if (not root1) and (not root2):\n",
    "            return True\n",
    "        if (not root1) or (not root2):\n",
    "            return False\n",
    "        if root1.key != root2.key:\n",
    "            return False\n",
    "        left = self.issame(root1.left, root2.left)\n",
    "        right = self.issame(root1.right, root2.right)\n",
    "        return (left and right)\n",
    "    \n",
    "    # \n",
    "    def mirror_Tree(self, root):\n",
    "        if not root:\n",
    "            return None\n",
    "        \n",
    "        \n",
    "   \n",
    "    \n",
    "    \n",
    "        \n",
    "\n",
    "A1 = Node(1)\n",
    "A2 = Node(2)\n",
    "A3 = Node(3)\n",
    "A4 = Node(4)\n",
    "A5 = Node(5)\n",
    "A6 = Node(6)\n",
    "A7 = Node(7)\n",
    "\n",
    "A1.left = A2\n",
    "A1.right = A3 \n",
    "A2.left = A4\n",
    "A2.right = A5\n",
    "A3.left = A6\n",
    "A6.left = A7\n",
    "\n",
    "tree1 = Tree()\n",
    "print(tree1.numberNode(A1))\n",
    "print(tree1.numberLeave(A1))\n",
    "print(tree1.k_numberNode(A1, 3))\n",
    "print(tree1.issame(A1, A2))"
   ]
  },
  {
   "cell_type": "markdown",
   "metadata": {},
   "source": [
    "### 有序数组的二分查找\n",
    "#### 伪代码\n",
    "left = 0 <br>\n",
    " rights = arr.length - 1 <br>\n",
    " while left <= right: <br>\n",
    "     mid = left + (right - left)//2  # 防止溢出<br>\n",
    "     if arr[mid] == target: <br>\n",
    "        return mid <br>\n",
    "     elif arr[mid] > target: <br>\n",
    "        right = mid - 1 <br>\n",
    "     elif arr[mid] < target: <br>\n",
    "        left = mid + 1 <br>\n",
    " return -1 <br>\n",
    " \n",
    "### 搜索区间\n",
    "[left, right] 两端都闭的搜索区间\n",
    " \n",
    "### 什么时候停止搜索\n",
    "1. 找到目标的时候 arr[mid]== target\n",
    "2. while 循环终止。while的终止条件是left == right+1, then搜索区间是[right+1, right],所以不存在，直接返回-1\n",
    "\n",
    "### 步骤\n",
    "当发现索引 mid 不是要找的target时，分别去搜索[left, mid-1]和[mid+1, right]，因为mid已经搜索过了，应该从搜索区间中去除"
   ]
  },
  {
   "cell_type": "code",
   "execution_count": 2,
   "metadata": {},
   "outputs": [
    {
     "data": {
      "text/plain": [
       "2"
      ]
     },
     "execution_count": 2,
     "metadata": {},
     "output_type": "execute_result"
    }
   ],
   "source": [
    "# 1-D binary search\n",
    "# 时间复杂度为O(logN)\n",
    "def binarysearch(arr, target):\n",
    "    if len(arr) == 0: return False\n",
    "    left = 0\n",
    "    right = len(arr) - 1\n",
    "    while left <= right:\n",
    "        mid = left + (right - left)//2\n",
    "        if arr[mid] == target:\n",
    "            return mid\n",
    "        elif arr[mid] < target:\n",
    "            left = mid + 1\n",
    "        else:\n",
    "            right = mid - 1\n",
    "    return False\n",
    "\n",
    "array = [1, 2, 2, 2, 4]\n",
    "target = 2\n",
    "binarysearch(array, target)"
   ]
  },
  {
   "cell_type": "markdown",
   "metadata": {},
   "source": [
    "有序数组 nums = [1, 2, 2, 2, 3], target = 2, 此时算法返回的索引是2 <br>\n",
    "但是如果我想得到target的左侧边界，即索引1 <br>\n",
    "寻找左侧边界的二分索引的步骤如下<br>\n",
    "搜索区间 [left, right) 左边右开 <br>\n",
    "退出循环终止条件 left==right, 搜索区间 [left, left) 恰好为空，所以可以正确终止 <br>\n",
    "所以最后返回left或者right都可以 <br>\n",
    "当arr[mid]被检测之后，下一步的搜索是去掉mid分割两个区间，即[left, mid)和[mid+1, right) <br>\n",
    "当找到target的时候，不要立刻返回，而是要缩小「搜索区间」的right，在区间[left, mid)中继续搜索"
   ]
  },
  {
   "cell_type": "code",
   "execution_count": 3,
   "metadata": {},
   "outputs": [
    {
     "data": {
      "text/plain": [
       "1"
      ]
     },
     "execution_count": 3,
     "metadata": {},
     "output_type": "execute_result"
    }
   ],
   "source": [
    "def left_bound(arr, target):\n",
    "    if len(arr) == 0: return -1\n",
    "    left = 0\n",
    "    right = len(arr)\n",
    "    while left < right:  \n",
    "        mid = left + (right - left)//2\n",
    "        if arr[mid] == target:\n",
    "            right = mid\n",
    "        elif arr[mid] < target:\n",
    "            left = mid+1\n",
    "        else:\n",
    "            right = mid\n",
    "    return left\n",
    "        \n",
    "array = [1, 2, 2, 2, 4]\n",
    "target = 2\n",
    "left_bound(array, target)  "
   ]
  },
  {
   "cell_type": "markdown",
   "metadata": {},
   "source": [
    "但是如果我想得到target的右侧边界，即索引1 <br>\n",
    "寻找右侧边界的二分索引的步骤如下<br>\n",
    "退出循环终止条件 left==right, 搜索区间 [left, left) 恰好为空，所以可以正确终止 <br>\n",
    "当找到target的时候，不要立刻返回，而是要增大「搜索区间」的left，在区间[mid+1, right)中继续搜索 <br>\n",
    "所以返回的最后值的时候需要减一 <br>"
   ]
  },
  {
   "cell_type": "code",
   "execution_count": 4,
   "metadata": {},
   "outputs": [
    {
     "data": {
      "text/plain": [
       "3"
      ]
     },
     "execution_count": 4,
     "metadata": {},
     "output_type": "execute_result"
    }
   ],
   "source": [
    "def right_bound(arr, target):\n",
    "    if len(arr) == 0: return -1\n",
    "    left = 0\n",
    "    right = len(arr)\n",
    "    while left < right:\n",
    "        mid = left + (right - left)//2\n",
    "        if arr[mid] == target:\n",
    "            left = mid + 1\n",
    "        elif arr[mid] < target:\n",
    "            left = mid + 1\n",
    "        else:\n",
    "            right = mid\n",
    "    return left-1\n",
    "\n",
    "array = [1, 2, 2, 2, 4]\n",
    "target = 2\n",
    "right_bound(array, target)"
   ]
  },
  {
   "cell_type": "code",
   "execution_count": 5,
   "metadata": {},
   "outputs": [],
   "source": [
    "# level order traversal (breadth-first search)\n",
    "# we visit every node on a level before going to a lower level\n",
    "# we use {queue} here to store node\n",
    "# Pseudocode for a simple queue based level order traversal\n",
    "\n",
    "# levelOrder(root):\n",
    "#     q = []\n",
    "#     q.append(root)\n",
    "#     while len(q) != 0:\n",
    "#         temp = q.pop(0)\n",
    "#         if temp.left:\n",
    "#             q.append(temp.left)\n",
    "#         if temp.right:\n",
    "#             q.append(temp.right)"
   ]
  },
  {
   "cell_type": "code",
   "execution_count": 6,
   "metadata": {},
   "outputs": [
    {
     "name": "stdout",
     "output_type": "stream",
     "text": [
      "4 2 5 1 6 3 None\n",
      "False\n"
     ]
    }
   ],
   "source": [
    "class Node:\n",
    "    def __init__(self, key):\n",
    "        self.key = key\n",
    "        self.left = None\n",
    "        self.right = None\n",
    "\n",
    "INT_MIN = float('-inf')\n",
    "INT_MAX = float('inf')\n",
    "# min stores the lower limit for the node values  {left subtree}\n",
    "# max stores the upper limit for the node values  {right subtree}\n",
    "class NodeDetails:\n",
    "    def __init__(self, key, min_val, max_val):\n",
    "        self.key = key\n",
    "        self.min_val = min_val\n",
    "        self.max_val = max_val\n",
    "\n",
    "class Tree2:\n",
    "    # construct a complete binary tree in the level order\n",
    "    def insertLevelOrder(self, arr, root, i, n):\n",
    "        if i < n:\n",
    "            root = Node(arr[i])\n",
    "            root.left = self.insertLevelOrder(arr, root.left, 2*i+1, n)\n",
    "            root.right = self.insertLevelOrder(arr, root.right, 2*i+2, n)\n",
    "        return root\n",
    "    \n",
    "    # binary search tree, left_subtree(keys) <= node(key) <= right_subtree(keys)\n",
    "    # check if the given array can represent level order traversal of bst\n",
    "    def LevelOrderIsBST(self, arr, n):\n",
    "        if n == 0:\n",
    "            return True\n",
    "        \n",
    "        # queue to store Node Details\n",
    "        q = []\n",
    "        i = 0\n",
    "        # root\n",
    "        newNode = NodeDetails(arr[i], INT_MIN, INT_MAX)\n",
    "        i = i+1\n",
    "        q.append(newNode)\n",
    "        \n",
    "        while i != n and len(q) != 0:\n",
    "            temp = q.pop(0)\n",
    "            \n",
    "            # left child  (min_val, temp.key)\n",
    "            if i < n and (arr[i] < temp.key and arr[i] > temp.min_val):\n",
    "                newNode = NodeDetails(arr[i], temp.min_val, temp.key)\n",
    "                i = i+1\n",
    "                q.append(newNode)\n",
    "            \n",
    "            # right child (temp.key, max_val)\n",
    "            if i < n and (arr[i] > temp.key and arr[i] < temp.max_val):\n",
    "                newNode = NodeDetails(arr[i], temp.key, temp.max_val)\n",
    "                i = i+1\n",
    "                q.append(newNode)\n",
    "                \n",
    "        # if all the elements of the array have been traversed\n",
    "        if i == n:\n",
    "            return True\n",
    "        return False\n",
    "    \n",
    "    # 判断一棵树是否为完全二叉树 （用bst的方法）   \n",
    "    def isCompleteTree(self, root):\n",
    "        if not root:\n",
    "            return False\n",
    "        q = []\n",
    "        q.append(root)\n",
    "        flag = True\n",
    "        while len(q) != 0:\n",
    "            temp = q.pop(0)\n",
    "            if not flag and (temp.left or temp.right):\n",
    "                return False\n",
    "            # 节点同时有left & right child\n",
    "            if temp.left and temp.right:\n",
    "                q.append(temp.left)\n",
    "                q.append(temp.right)\n",
    "            # 节点只有right child\n",
    "            elif temp.right and (not temp.left):\n",
    "                return False\n",
    "            # 节点只有left child，则后面的所有节点都不能有left & right child\n",
    "            # 用flag作后续判断\n",
    "            elif temp.left and (not temp.right):\n",
    "                q.append(temp.left)\n",
    "                flag = False\n",
    "            # 节点没有left & right child，即为叶子节点\n",
    "            else:\n",
    "                flag = False\n",
    "        return True\n",
    "               \n",
    "    \n",
    "    # dfs (depth-first search)\n",
    "    # preOrder, inOrder, postOrder \n",
    "    # 方法1: 递归的方法\n",
    "    def inOrder(self, root):\n",
    "        if root:\n",
    "            self.inOrder(root.left)\n",
    "            print(root.key, end=\" \")\n",
    "            self.inOrder(root.right)\n",
    "            \n",
    "    # 方法2: 使用stack 暂存节点\n",
    "\n",
    "\n",
    "arr = [1, 2, 3, 4, 5, 6]\n",
    "n = len(arr)\n",
    "tree2 = Tree2()\n",
    "root = None\n",
    "root = tree2.insertLevelOrder(arr, root, 0, n)\n",
    "print(tree2.inOrder(root))\n",
    "print(tree2.isCompleteTree(A1))\n"
   ]
  },
  {
   "cell_type": "markdown",
   "metadata": {},
   "source": [
    "在AVL树中，任一节点对应对两棵子树对最大高度差为1。查找、插入、删除在平均和最坏的情况下都是O(logn)，增加和删除元素的操作可能需要借由一次或多次树旋转，以实现树的平衡。  \n",
    "\n",
    "在构造二叉搜索树时，如果插入的是有序序列，二叉树退化为单链表，搜索效率为O(n)，e.g: A = {1, 2, 3, 4, 5, 6} 构造的二叉搜索树为右斜树，查找元素6，需要查找6次。\n",
    "\n",
    "二叉搜索树的查找效率取决于<u>树的高度</u>，  因此保持树的高度最小，即可保证树的查找效率。当节点数目一定，保持树的两端平衡，树的查找效率最高。由此引入AVL树，其任一节点的左右子树高度相差不超过1。\n",
    "\n",
    "{BF, Balance Factor} = 左子树与右子树的高度差，在AVL中，BF只能取0、1、-1。  "
   ]
  },
  {
   "cell_type": "code",
   "execution_count": 7,
   "metadata": {},
   "outputs": [
    {
     "name": "stdout",
     "output_type": "stream",
     "text": [
      "4\n",
      "False\n"
     ]
    }
   ],
   "source": [
    "class Tree:\n",
    "    # 二叉树的深度\n",
    "    def get_depth(self, root):\n",
    "        if not root:\n",
    "            return 0\n",
    "        left = self.get_depth(root.left)\n",
    "        right = self.get_depth(root.right)\n",
    "        depth = max(left, right) + 1\n",
    "        return depth\n",
    "    \n",
    "    # 是否为平衡树\n",
    "    def isAVL(self, root):\n",
    "        if not root:\n",
    "            return 0\n",
    "        left = self.isAVL(root.left)\n",
    "        right = self.isAVL(root.right)\n",
    "        diff = abs(left - right)\n",
    "        if diff > 1:\n",
    "            return False\n",
    "        depth = max(left, right)+1\n",
    "        return depth\n",
    "    \n",
    "    # 得到bf因子\n",
    "    def get_balance(self, root):\n",
    "        if not root:\n",
    "            return 0\n",
    "        diff = self.get_depth(root.left) - self.get_depth(root.right)\n",
    "        return abs(diff)\n",
    "\n",
    "tree1 = Tree()\n",
    "print(tree1.get_depth(A1))\n",
    "print(tree1.isAVL(A1))"
   ]
  }
 ],
 "metadata": {
  "kernelspec": {
   "display_name": "Python 3",
   "language": "python",
   "name": "python3"
  },
  "language_info": {
   "codemirror_mode": {
    "name": "ipython",
    "version": 3
   },
   "file_extension": ".py",
   "mimetype": "text/x-python",
   "name": "python",
   "nbconvert_exporter": "python",
   "pygments_lexer": "ipython3",
   "version": "3.6.5"
  }
 },
 "nbformat": 4,
 "nbformat_minor": 2
}
